{
 "nbformat": 4,
 "nbformat_minor": 2,
 "metadata": {
  "language_info": {
   "name": "python",
   "codemirror_mode": {
    "name": "ipython",
    "version": 3
   },
   "version": "3.7.4-final"
  },
  "orig_nbformat": 2,
  "file_extension": ".py",
  "mimetype": "text/x-python",
  "name": "python",
  "npconvert_exporter": "python",
  "pygments_lexer": "ipython3",
  "version": 3,
  "kernelspec": {
   "name": "python37464bitfaisavirtualenv7bd7156829254dfabe2e6b4879e05f9f",
   "display_name": "Python 3.7.4 64-bit ('faisa': virtualenv)"
  }
 },
 "cells": [
  {
   "cell_type": "code",
   "execution_count": 1,
   "metadata": {},
   "outputs": [],
   "source": [
    "from pyspark.context import SparkContext\n",
    "from pyspark.sql.session import SparkSession"
   ]
  },
  {
   "cell_type": "code",
   "execution_count": 2,
   "metadata": {},
   "outputs": [],
   "source": [
    "import logging\n",
    "logging.basicConfig(level=logging.INFO)"
   ]
  },
  {
   "cell_type": "code",
   "execution_count": 3,
   "metadata": {},
   "outputs": [
    {
     "name": "stdout",
     "output_type": "stream",
     "text": "Requirement already satisfied: jupyter-tabnine in c:\\users\\faisa\\anaconda3\\lib\\site-packages (1.0.2)\nRequirement already satisfied: jupyter-core in c:\\users\\faisa\\appdata\\roaming\\python\\python37\\site-packages (from jupyter-tabnine) (4.6.1)\nRequirement already satisfied: notebook>=4.2 in c:\\users\\faisa\\anaconda3\\lib\\site-packages (from jupyter-tabnine) (6.0.1)\nRequirement already satisfied: nbconvert in c:\\users\\faisa\\anaconda3\\lib\\site-packages (from jupyter-tabnine) (5.6.0)\nRequirement already satisfied: ipython in c:\\users\\faisa\\appdata\\roaming\\python\\python37\\site-packages (from jupyter-tabnine) (7.12.0)\nRequirement already satisfied: traitlets in c:\\users\\faisa\\appdata\\roaming\\python\\python37\\site-packages (from jupyter-core->jupyter-tabnine) (4.3.3)\nRequirement already satisfied: pywin32>=1.0; sys_platform == \"win32\" in c:\\users\\faisa\\appdata\\roaming\\python\\python37\\site-packages (from jupyter-core->jupyter-tabnine) (227)\nRequirement already satisfied: jinja2 in c:\\users\\faisa\\anaconda3\\lib\\site-packages (from notebook>=4.2->jupyter-tabnine) (2.10.3)\nRequirement already satisfied: Send2Trash in c:\\users\\faisa\\anaconda3\\lib\\site-packages (from notebook>=4.2->jupyter-tabnine) (1.5.0)\nRequirement already satisfied: pyzmq>=17 in c:\\users\\faisa\\appdata\\roaming\\python\\python37\\site-packages (from notebook>=4.2->jupyter-tabnine) (18.1.1)\nRequirement already satisfied: nbformat in c:\\users\\faisa\\anaconda3\\lib\\site-packages (from notebook>=4.2->jupyter-tabnine) (4.4.0)\nRequirement already satisfied: prometheus-client in c:\\users\\faisa\\anaconda3\\lib\\site-packages (from notebook>=4.2->jupyter-tabnine) (0.7.1)\nRequirement already satisfied: tornado>=5.0 in c:\\users\\faisa\\anaconda3\\lib\\site-packages (from notebook>=4.2->jupyter-tabnine) (6.0.3)\nRequirement already satisfied: ipykernel in c:\\users\\faisa\\appdata\\roaming\\python\\python37\\site-packages (from notebook>=4.2->jupyter-tabnine) (5.1.4)\nRequirement already satisfied: terminado>=0.8.1 in c:\\users\\faisa\\anaconda3\\lib\\site-packages (from notebook>=4.2->jupyter-tabnine) (0.8.2)\nRequirement already satisfied: jupyter-client>=5.3.1 in c:\\users\\faisa\\appdata\\roaming\\python\\python37\\site-packages (from notebook>=4.2->jupyter-tabnine) (5.3.4)\nRequirement already satisfied: ipython-genutils in c:\\users\\faisa\\appdata\\roaming\\python\\python37\\site-packages (from notebook>=4.2->jupyter-tabnine) (0.2.0)\nRequirement already satisfied: pygments in c:\\users\\faisa\\appdata\\roaming\\python\\python37\\site-packages (from nbconvert->jupyter-tabnine) (2.5.2)\nRequirement already satisfied: bleach in c:\\users\\faisa\\anaconda3\\lib\\site-packages (from nbconvert->jupyter-tabnine) (3.1.0)\nRequirement already satisfied: pandocfilters>=1.4.1 in c:\\users\\faisa\\anaconda3\\lib\\site-packages (from nbconvert->jupyter-tabnine) (1.4.2)\nRequirement already satisfied: mistune<2,>=0.8.1 in c:\\users\\faisa\\anaconda3\\lib\\site-packages (from nbconvert->jupyter-tabnine) (0.8.4)\nRequirement already satisfied: testpath in c:\\users\\faisa\\anaconda3\\lib\\site-packages (from nbconvert->jupyter-tabnine) (0.4.2)\nRequirement already satisfied: defusedxml in c:\\users\\faisa\\anaconda3\\lib\\site-packages (from nbconvert->jupyter-tabnine) (0.6.0)\nRequirement already satisfied: entrypoints>=0.2.2 in c:\\users\\faisa\\anaconda3\\lib\\site-packages (from nbconvert->jupyter-tabnine) (0.3)\nRequirement already satisfied: prompt-toolkit!=3.0.0,!=3.0.1,<3.1.0,>=2.0.0 in c:\\users\\faisa\\appdata\\roaming\\python\\python37\\site-packages (from ipython->jupyter-tabnine) (3.0.3)\nRequirement already satisfied: backcall in c:\\users\\faisa\\appdata\\roaming\\python\\python37\\site-packages (from ipython->jupyter-tabnine) (0.1.0)\nRequirement already satisfied: setuptools>=18.5 in c:\\users\\faisa\\anaconda3\\lib\\site-packages (from ipython->jupyter-tabnine) (41.4.0)\nRequirement already satisfied: jedi>=0.10 in c:\\users\\faisa\\appdata\\roaming\\python\\python37\\site-packages (from ipython->jupyter-tabnine) (0.16.0)\nRequirement already satisfied: colorama; sys_platform == \"win32\" in c:\\users\\faisa\\appdata\\roaming\\python\\python37\\site-packages (from ipython->jupyter-tabnine) (0.4.3)\nRequirement already satisfied: pickleshare in c:\\users\\faisa\\appdata\\roaming\\python\\python37\\site-packages (from ipython->jupyter-tabnine) (0.7.5)\nRequirement already satisfied: decorator in c:\\users\\faisa\\appdata\\roaming\\python\\python37\\site-packages (from ipython->jupyter-tabnine) (4.4.1)\nRequirement already satisfied: six in c:\\users\\faisa\\anaconda3\\lib\\site-packages (from traitlets->jupyter-core->jupyter-tabnine) (1.12.0)\nRequirement already satisfied: MarkupSafe>=0.23 in c:\\users\\faisa\\anaconda3\\lib\\site-packages (from jinja2->notebook>=4.2->jupyter-tabnine) (1.1.1)\nRequirement already satisfied: jsonschema!=2.5.0,>=2.4 in c:\\users\\faisa\\anaconda3\\lib\\site-packages (from nbformat->notebook>=4.2->jupyter-tabnine) (3.0.2)\nRequirement already satisfied: python-dateutil>=2.1 in c:\\users\\faisa\\anaconda3\\lib\\site-packages (from jupyter-client>=5.3.1->notebook>=4.2->jupyter-tabnine) (2.8.0)\nRequirement already satisfied: webencodings in c:\\users\\faisa\\anaconda3\\lib\\site-packages (from bleach->nbconvert->jupyter-tabnine) (0.5.1)\nRequirement already satisfied: wcwidth in c:\\users\\faisa\\appdata\\roaming\\python\\python37\\site-packages (from prompt-toolkit!=3.0.0,!=3.0.1,<3.1.0,>=2.0.0->ipython->jupyter-tabnine) (0.1.8)\nRequirement already satisfied: parso>=0.5.2 in c:\\users\\faisa\\appdata\\roaming\\python\\python37\\site-packages (from jedi>=0.10->ipython->jupyter-tabnine) (0.6.1)\nRequirement already satisfied: attrs>=17.4.0 in c:\\users\\faisa\\anaconda3\\lib\\site-packages (from jsonschema!=2.5.0,>=2.4->nbformat->notebook>=4.2->jupyter-tabnine) (19.2.0)\nRequirement already satisfied: pyrsistent>=0.14.0 in c:\\users\\faisa\\anaconda3\\lib\\site-packages (from jsonschema!=2.5.0,>=2.4->nbformat->notebook>=4.2->jupyter-tabnine) (0.15.4)\nInstalling C:\\Users\\faisa\\Anaconda3\\lib\\site-packages\\jupyter_tabnine\\static -> jupyter_tabnine\nUp to date: C:\\ProgramData\\jupyter\\nbextensions\\jupyter_tabnine\\main.css\nUp to date: C:\\ProgramData\\jupyter\\nbextensions\\jupyter_tabnine\\main.js\nUp to date: C:\\ProgramData\\jupyter\\nbextensions\\jupyter_tabnine\\README.md\nUp to date: C:\\ProgramData\\jupyter\\nbextensions\\jupyter_tabnine\\tabnine.yaml\n- Validating: ok\n\n    To initialize this nbextension in the browser every time the notebook (or other app) loads:\n    \n          jupyter nbextension enable jupyter_tabnine --py\n    \nEnabling notebook extension jupyter_tabnine/main...\n      - Validating: ok\nEnabling: jupyter_tabnine\n- Writing config: C:\\Users\\faisa\\.jupyter\n    - Validating...\n      jupyter_tabnine  ok\n"
    }
   ],
   "source": [
    "# Installing autocomplete\n",
    "!pip install jupyter-tabnine\n",
    "!jupyter nbextension install --py jupyter_tabnine\n",
    "!jupyter nbextension enable --py jupyter_tabnine\n",
    "!jupyter serverextension enable --py jupyter_tabnine"
   ]
  },
  {
   "cell_type": "code",
   "execution_count": 5,
   "metadata": {},
   "outputs": [
    {
     "name": "stderr",
     "output_type": "stream",
     "text": "INFO:root:Initializing spark context\nINFO:root:Spark context initialized: <pyspark.sql.session.SparkSession object at 0x00000267A553E688>\n"
    }
   ],
   "source": [
    "logging.info('Initializing spark context')\n",
    "spark = (SparkSession.builder.appName('pubg').getOrCreate())\n",
    "logging.info(f'Spark context initialized: {spark}')"
   ]
  },
  {
   "cell_type": "code",
   "execution_count": null,
   "metadata": {},
   "outputs": [],
   "source": []
  }
 ]
}